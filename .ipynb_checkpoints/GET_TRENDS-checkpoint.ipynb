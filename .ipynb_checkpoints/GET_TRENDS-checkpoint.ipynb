{
 "cells": [
  {
   "cell_type": "markdown",
   "metadata": {},
   "source": [
    "# GET TRENDS"
   ]
  },
  {
   "cell_type": "code",
   "execution_count": 1,
   "metadata": {},
   "outputs": [],
   "source": [
    "import datetime\n",
    "import os\n",
    "from ipywidgets import IntProgress\n",
    "from IPython.display import display\n",
    "from IPython.display import clear_output\n",
    "import time\n",
    "import sys\n",
    "# Import the necessary package to process data in JSON format\n",
    "try:\n",
    "    import json\n",
    "except ImportError:\n",
    "    import simplejson as json\n",
    "\n",
    "# Import the tweepy library\n",
    "import tweepy\n",
    "\n",
    "\n",
    "# ---------------------------------------------------------------------\n",
    "#   AUTHENTICATION \n",
    "# ---------------------------------------------------------------------\n",
    "\n",
    "f = open(\"../donotgit/MY/access.txt\", \"r\")\n",
    "keys = f.read()\n",
    "f.close()\n",
    "keys  = keys.split(',')\n",
    "#print(\"Access Keys are : \" + str(keys))\n",
    "ACCESS_TOKEN = keys[0]\n",
    "ACCESS_SECRET = keys[1]\n",
    "\n",
    "\n",
    "f = open(\"../donotgit/MY/consumer.txt\", \"r\")\n",
    "keys = f.read()\n",
    "keys  = keys.split(',')\n",
    "#print(\"Consumer Keys are : \" + str(keys))\n",
    "CONSUMER_KEY = keys[0]\n",
    "CONSUMER_SECRET = keys[1]\n",
    "\n",
    "# Setup tweepy to authenticate with Twitter credentials:\n",
    "\n",
    "auth = tweepy.OAuthHandler(CONSUMER_KEY, CONSUMER_SECRET)\n",
    "auth.set_access_token(ACCESS_TOKEN, ACCESS_SECRET)\n",
    "\n",
    "# Create the api to connect to twitter with your creadentials\n",
    "api = tweepy.API(auth, wait_on_rate_limit=True, wait_on_rate_limit_notify=True, compression=True)\n",
    "\n"
   ]
  },
  {
   "cell_type": "code",
   "execution_count": 2,
   "metadata": {},
   "outputs": [],
   "source": [
    "WOE_ID = 44418 # London\n",
    "trend_array = []\n",
    "local_trends = api.trends_place(WOE_ID)\n",
    "\n",
    "\n",
    "trends = json.loads(json.dumps(local_trends, indent=1))\n",
    " \n",
    "for trend in trends[0][\"trends\"]:\n",
    "    trend_array.append(trend[\"name\"])\n",
    "\n"
   ]
  },
  {
   "cell_type": "code",
   "execution_count": 3,
   "metadata": {},
   "outputs": [
    {
     "data": {
      "text/plain": [
       "['Michael',\n",
       " 'Amber',\n",
       " 'England',\n",
       " '#IndependenceDay',\n",
       " 'Ann Widdecombe',\n",
       " '#ThursdayThoughts',\n",
       " '#StrangerThings3',\n",
       " 'Ariel',\n",
       " 'Frank Lampard',\n",
       " 'William Hill',\n",
       " '#keeptheban',\n",
       " '#WelcomeHomeFrank',\n",
       " 'Dan Evans',\n",
       " 'aircraft one',\n",
       " 'Little Mermaid',\n",
       " 'Rodri',\n",
       " 'Jags',\n",
       " 'Joss Stone',\n",
       " 'Eddie Jones',\n",
       " 'Damo',\n",
       " 'Steve Harrington',\n",
       " 'Jagielka',\n",
       " 'Ayoze',\n",
       " 'Oppressed',\n",
       " 'My Name',\n",
       " 'Yaxley-Lennon',\n",
       " 'Widders',\n",
       " 'Haddad Maia',\n",
       " '#ukindieday',\n",
       " '#TwitTeamHour',\n",
       " '#BTECAwards19',\n",
       " '#MGMAVOTE',\n",
       " '#AFGvWI',\n",
       " '#TommyRobinson',\n",
       " '#TUCLGBT',\n",
       " '#iLINKSX',\n",
       " '#ThinkPrevention',\n",
       " '#bekaraan',\n",
       " '#PeopleandHomes2019',\n",
       " '#sepsis',\n",
       " '#WildConference',\n",
       " '#GreatCoaching',\n",
       " '#EVRH',\n",
       " '#ChaseLive2019',\n",
       " '#EGSummit',\n",
       " '#DRETSummerCup',\n",
       " '#ArrowFrightFest',\n",
       " '#WriteCBC',\n",
       " '#GoodwoodFoS',\n",
       " '#SheWhoDaresFarms']"
      ]
     },
     "execution_count": 3,
     "metadata": {},
     "output_type": "execute_result"
    }
   ],
   "source": [
    "trend_array"
   ]
  },
  {
   "cell_type": "code",
   "execution_count": null,
   "metadata": {},
   "outputs": [],
   "source": []
  }
 ],
 "metadata": {
  "kernelspec": {
   "display_name": "Python 3",
   "language": "python",
   "name": "python3"
  },
  "language_info": {
   "codemirror_mode": {
    "name": "ipython",
    "version": 3
   },
   "file_extension": ".py",
   "mimetype": "text/x-python",
   "name": "python",
   "nbconvert_exporter": "python",
   "pygments_lexer": "ipython3",
   "version": "3.7.3"
  }
 },
 "nbformat": 4,
 "nbformat_minor": 2
}
